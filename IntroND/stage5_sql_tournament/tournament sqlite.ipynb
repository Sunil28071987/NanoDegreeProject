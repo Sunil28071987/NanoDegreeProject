{
 "cells": [
  {
   "cell_type": "markdown",
   "metadata": {},
   "source": [
    "# sqlite implementationof tournament project\n",
    "[project description](https://docs.google.com/document/d/1_QQ_FBcPROER-s674YT5WoV6wdpvGWZCI9b8_p0RJ_s/pub)"
   ]
  },
  {
   "cell_type": "code",
   "execution_count": 1,
   "metadata": {
    "collapsed": false
   },
   "outputs": [
    {
     "data": {
      "text/plain": [
       "<sqlite3.Cursor at 0x10594d7a0>"
      ]
     },
     "execution_count": 1,
     "metadata": {},
     "output_type": "execute_result"
    }
   ],
   "source": [
    "import sqlite3\n",
    "conn = sqlite3.connect(\":memory:\")\n",
    "c = conn.cursor()\n",
    "\n",
    "#query = \"create database tournament;\"  # error, can't create database in api\n",
    "\n",
    "query = \"create table players (id integer primary key autoincrement, name text);\"\n",
    "c.execute(query)\n",
    "\n",
    "query = \"create table matches (matchid integer primary key autoincrement, winner integer references players(id), loser integer references players(id));\"\n",
    "c.execute(query)"
   ]
  },
  {
   "cell_type": "markdown",
   "metadata": {},
   "source": [
    "### sqlite_master"
   ]
  },
  {
   "cell_type": "code",
   "execution_count": 2,
   "metadata": {
    "collapsed": false
   },
   "outputs": [
    {
     "name": "stdout",
     "output_type": "stream",
     "text": [
      "[(u'players',), (u'sqlite_sequence',), (u'matches',)]\n",
      "[(u'CREATE TABLE matches (matchid integer primary key autoincrement, winner integer references players(id), loser integer references players(id))',)]\n"
     ]
    }
   ],
   "source": [
    "c.execute(\"select name from sqlite_master where type = 'table';\")\n",
    "print c.fetchall()\n",
    "\n",
    "c.execute(\"select sql from sqlite_master where type = 'table' and name = 'matches';\")\n",
    "print c.fetchall()"
   ]
  },
  {
   "cell_type": "markdown",
   "metadata": {},
   "source": [
    "## 1 testCount()"
   ]
  },
  {
   "cell_type": "code",
   "execution_count": 3,
   "metadata": {
    "collapsed": false
   },
   "outputs": [],
   "source": [
    "def deleteMatches():\n",
    "    c.execute(\"delete from matches;\")\n",
    "    conn.commit()\n",
    "deleteMatches()\n",
    "\n",
    "def deletePlayers():\n",
    "    c.execute(\"delete from players;\")\n",
    "    conn.commit()\n",
    "deletePlayers()    "
   ]
  },
  {
   "cell_type": "code",
   "execution_count": 4,
   "metadata": {
    "collapsed": false
   },
   "outputs": [
    {
     "name": "stdout",
     "output_type": "stream",
     "text": [
      "1. countPlayers() returns 0 after initial deletePlayers() execution.\n"
     ]
    }
   ],
   "source": [
    "def countPlayers():\n",
    "    c.execute(\"select count(id) from players;\")\n",
    "    return c.fetchone()[0]\n",
    "num = countPlayers()\n",
    "if num == '0':\n",
    "    raise TypeError(\n",
    "        \"countPlayers should return numeric zero, not string '0'.\")\n",
    "if num != 0:\n",
    "    raise ValueError(\"After deletion, countPlayers should return zero.\")\n",
    "print \"1. countPlayers() returns 0 after initial deletePlayers() execution.\""
   ]
  },
  {
   "cell_type": "code",
   "execution_count": 5,
   "metadata": {
    "collapsed": false
   },
   "outputs": [
    {
     "name": "stdout",
     "output_type": "stream",
     "text": [
      "2. countPlayers() returns 1 after one player is registered.\n",
      "3. countPlayers() returns 2 after two players are registered.\n",
      "4. countPlayers() returns zero after registered players are deleted.\n",
      "5. Player records successfully deleted.\n"
     ]
    }
   ],
   "source": [
    "def registerPlayer(name):\n",
    "    c.execute(\"insert into players(name) values (?)\", (name,))\n",
    "    conn.commit()\n",
    "registerPlayer(\"Chandra Nalaar\")\n",
    "\n",
    "num = countPlayers()\n",
    "if num != 1:\n",
    "    raise ValueError(\n",
    "        \"After one player registers, countPlayers() should be 1. Got {c}\".format(c=num))\n",
    "print \"2. countPlayers() returns 1 after one player is registered.\"\n",
    "\n",
    "registerPlayer(\"Jace Beleren\")\n",
    "num = countPlayers()\n",
    "if num != 2:\n",
    "    raise ValueError(\n",
    "        \"After two players register, countPlayers() should be 2. Got {c}\".format(c=num))\n",
    "print \"3. countPlayers() returns 2 after two players are registered.\"\n",
    "\n",
    "deletePlayers()\n",
    "num = countPlayers()\n",
    "if num != 0:\n",
    "    raise ValueError(\n",
    "        \"After deletion, countPlayers should return zero.\")\n",
    "print \"4. countPlayers() returns zero after registered players are deleted.\\n5. Player records successfully deleted.\"\n"
   ]
  },
  {
   "cell_type": "markdown",
   "metadata": {},
   "source": [
    "## 2 testStandingsBeforeMatches()"
   ]
  },
  {
   "cell_type": "code",
   "execution_count": 6,
   "metadata": {
    "collapsed": true
   },
   "outputs": [],
   "source": [
    "deleteMatches()\n",
    "deletePlayers()\n",
    "registerPlayer(\"Melpomene Murray\")\n",
    "registerPlayer(\"Randy Schwartz\")"
   ]
  },
  {
   "cell_type": "code",
   "execution_count": 7,
   "metadata": {
    "collapsed": true
   },
   "outputs": [],
   "source": [
    "def playerStandings():\n",
    "    \"\"\"Returns a list of the players and their win records, sorted by wins.\n",
    "    Returns:\n",
    "      A list of (id, name, wins, matches):\n",
    "        id: the player's unique id (assigned by the database)\n",
    "        name: the player's full name (as registered)\n",
    "        wins: the number of matches the player has won\n",
    "        matches: the number of matches the player has played\n",
    "    \"\"\"\n",
    "    c.execute(\"select id, name, sum(case when id=winner then 1 else 0 end),\\\n",
    "            sum(case when id in (winner,loser) then 1 else 0 end ) \\\n",
    "            from players left join matches \\\n",
    "            group by id  \\\n",
    "            order by count(winner) DESC;\")\n",
    "    return c.fetchall()\n",
    "standings = playerStandings()"
   ]
  },
  {
   "cell_type": "code",
   "execution_count": 8,
   "metadata": {
    "collapsed": false
   },
   "outputs": [
    {
     "name": "stdout",
     "output_type": "stream",
     "text": [
      "6. Newly registered players appear in the standings with no matches.\n"
     ]
    }
   ],
   "source": [
    "if len(standings) < 2:\n",
    "    raise ValueError(\"Players should appear in playerStandings even before \"\n",
    "                     \"they have played any matches.\")\n",
    "elif len(standings) > 2:\n",
    "    raise ValueError(\"Only registered players should appear in standings.\")\n",
    "if len(standings[0]) != 4:\n",
    "    raise ValueError(\"Each playerStandings row should have four columns.\")\n",
    "    \n",
    "[(id1, name1, wins1, matches1), (id2, name2, wins2, matches2)] = standings\n",
    "if matches1 != 0 or matches2 != 0 or wins1 != 0 or wins2 != 0:\n",
    "    raise ValueError(\n",
    "        \"Newly registered players should have no matches or wins.\")\n",
    "if set([name1, name2]) != set([\"Melpomene Murray\", \"Randy Schwartz\"]):\n",
    "    raise ValueError(\"Registered players' names should appear in standings, \"\n",
    "                     \"even if they have no matches played.\")\n",
    "print \"6. Newly registered players appear in the standings with no matches.\""
   ]
  },
  {
   "cell_type": "markdown",
   "metadata": {},
   "source": [
    "## 3.testReportMatches()\n"
   ]
  },
  {
   "cell_type": "code",
   "execution_count": 9,
   "metadata": {
    "collapsed": false
   },
   "outputs": [],
   "source": [
    "deleteMatches()\n",
    "deletePlayers()\n",
    "registerPlayer(\"Bruno Walton\")\n",
    "registerPlayer(\"Boots O'Neal\")\n",
    "registerPlayer(\"Cathy Burton\")\n",
    "registerPlayer(\"Diane Grant\")\n",
    "standings = playerStandings()\n",
    "[id1, id2, id3, id4] = [row[0] for row in standings]"
   ]
  },
  {
   "cell_type": "code",
   "execution_count": 10,
   "metadata": {
    "collapsed": false
   },
   "outputs": [
    {
     "name": "stdout",
     "output_type": "stream",
     "text": [
      "7. After a match, players have updated standings.\n"
     ]
    }
   ],
   "source": [
    "def reportMatch(winner, loser):\n",
    "    \"\"\"Records the outcome of a single match between two players.\n",
    "    Args:\n",
    "      winner:  the id number of the player who won\n",
    "      loser:  the id number of the player who lost\n",
    "    \"\"\"\n",
    "    c.execute(\"insert into matches(winner,loser) values (?,?)\", (winner,loser))\n",
    "    conn.commit()\n",
    "\n",
    "reportMatch(id1, id2)\n",
    "reportMatch(id3, id4)\n",
    "standings = playerStandings()\n",
    "for (i, n, w, m) in standings:\n",
    "    if m != 1:\n",
    "        raise ValueError(\"Each player should have one match recorded.\")\n",
    "    if i in (id1, id3) and w != 1:\n",
    "        raise ValueError(\"Each match winner should have one win recorded.\")\n",
    "    elif i in (id2, id4) and w != 0:\n",
    "        raise ValueError(\"Each match loser should have zero wins recorded.\")\n",
    "print \"7. After a match, players have updated standings.\""
   ]
  },
  {
   "cell_type": "code",
   "execution_count": 11,
   "metadata": {
    "collapsed": false
   },
   "outputs": [
    {
     "name": "stdout",
     "output_type": "stream",
     "text": [
      "8. After match deletion, player standings are properly reset.\n",
      "9. Matches are properly deleted.\n"
     ]
    }
   ],
   "source": [
    "deleteMatches()\n",
    "standings = playerStandings()\n",
    "if len(standings) != 4:\n",
    "    raise ValueError(\"Match deletion should not change number of players in standings.\")\n",
    "for (i, n, w, m) in standings:\n",
    "    if m != 0:\n",
    "        raise ValueError(\"After deleting matches, players should have zero matches recorded.\")\n",
    "    if w != 0:\n",
    "        raise ValueError(\"After deleting matches, players should have zero wins recorded.\")\n",
    "print \"8. After match deletion, player standings are properly reset.\\n9. Matches are properly deleted.\""
   ]
  },
  {
   "cell_type": "markdown",
   "metadata": {},
   "source": [
    "## 4 testPairings()"
   ]
  },
  {
   "cell_type": "code",
   "execution_count": 12,
   "metadata": {
    "collapsed": true
   },
   "outputs": [],
   "source": [
    "deleteMatches()\n",
    "deletePlayers()\n",
    "registerPlayer(\"Twilight Sparkle\")\n",
    "registerPlayer(\"Fluttershy\")\n",
    "registerPlayer(\"Applejack\")\n",
    "registerPlayer(\"Pinkie Pie\")\n",
    "registerPlayer(\"Rarity\")\n",
    "registerPlayer(\"Rainbow Dash\")\n",
    "registerPlayer(\"Princess Celestia\")\n",
    "registerPlayer(\"Princess Luna\")\n",
    "standings = playerStandings()\n",
    "[id1, id2, id3, id4, id5, id6, id7, id8] = [row[0] for row in standings]"
   ]
  },
  {
   "cell_type": "code",
   "execution_count": 13,
   "metadata": {
    "collapsed": false
   },
   "outputs": [],
   "source": [
    "def swissPairings():\n",
    "    \"\"\"Returns a list of pairs of players for the next round of a match.\n",
    "    Assuming that there are an even number of players registered, each player\n",
    "    appears exactly once in the pairings.  Each player is paired with another\n",
    "    player with an equal or nearly-equal win record, that is, a player adjacent\n",
    "    to him or her in the standings.\n",
    "\n",
    "    Returns:\n",
    "      A list of tuples, each of which contains (id1, name1, id2, name2)\n",
    "    \"\"\"\n",
    "    c.execute(\"drop view if exists rank;\")\n",
    "    c.execute(\"create view rank as select id, name, count(winner) as points \\\n",
    "                    from players left join matches \\\n",
    "                    on id=winner \\\n",
    "                    group by id \\\n",
    "                    order by points DESC;\")\n",
    "    c.execute(\"select a.id, a.name, b.id, b.name from rank as a, rank as b \\\n",
    "                    where a.rowid =b.rowid-1 and (b.rowid %2)=0;\")\n",
    "    results = c.fetchall()\n",
    "    return results\n",
    "\n",
    "pairings = swissPairings()\n",
    "if len(pairings) != 4:\n",
    "    raise ValueError(\n",
    "        \"For eight players, swissPairings should return 4 pairs. Got {pairs}\".format(pairs=len(pairings)))"
   ]
  },
  {
   "cell_type": "code",
   "execution_count": 14,
   "metadata": {
    "collapsed": false
   },
   "outputs": [
    {
     "name": "stdout",
     "output_type": "stream",
     "text": [
      "10. After one match, players with one win are properly paired.\n",
      "Success!  All tests pass!\n"
     ]
    }
   ],
   "source": [
    "reportMatch(id1, id2)\n",
    "reportMatch(id3, id4)\n",
    "reportMatch(id5, id6)\n",
    "reportMatch(id7, id8)\n",
    "\n",
    "pairings = swissPairings()\n",
    "if len(pairings) != 4:\n",
    "    raise ValueError(\n",
    "        \"For eight players, swissPairings should return 4 pairs. Got {pairs}\".format(pairs=len(pairings)))\n",
    "[(pid1, pname1, pid2, pname2), (pid3, pname3, pid4, pname4), (pid5, pname5, pid6, pname6), (pid7, pname7, pid8, pname8)] = pairings\n",
    "possible_pairs = set([frozenset([id1, id3]), frozenset([id1, id5]),\n",
    "                      frozenset([id1, id7]), frozenset([id3, id5]),\n",
    "                      frozenset([id3, id7]), frozenset([id5, id7]),\n",
    "                      frozenset([id2, id4]), frozenset([id2, id6]),\n",
    "                      frozenset([id2, id8]), frozenset([id4, id6]),\n",
    "                      frozenset([id4, id8]), frozenset([id6, id8])\n",
    "                      ])\n",
    "actual_pairs = set([frozenset([pid1, pid2]), frozenset([pid3, pid4]), frozenset([pid5, pid6]), frozenset([pid7, pid8])])\n",
    "for pair in actual_pairs:\n",
    "    if pair not in possible_pairs:\n",
    "        raise ValueError(\n",
    "            \"After one match, players with one win should be paired.\")\n",
    "print \"10. After one match, players with one win are properly paired.\"\n",
    "print \"Success!  All tests pass!\""
   ]
  },
  {
   "cell_type": "markdown",
   "metadata": {},
   "source": [
    "## find some tricks\n",
    "-  c.description\n",
    "-  sqlparse"
   ]
  },
  {
   "cell_type": "code",
   "execution_count": 15,
   "metadata": {
    "collapsed": false
   },
   "outputs": [
    {
     "name": "stdout",
     "output_type": "stream",
     "text": [
      "['id', 'name']\n"
     ]
    },
    {
     "data": {
      "text/plain": [
       "[(9, u'Twilight Sparkle'),\n",
       " (10, u'Fluttershy'),\n",
       " (11, u'Applejack'),\n",
       " (12, u'Pinkie Pie'),\n",
       " (13, u'Rarity'),\n",
       " (14, u'Rainbow Dash'),\n",
       " (15, u'Princess Celestia'),\n",
       " (16, u'Princess Luna')]"
      ]
     },
     "execution_count": 15,
     "metadata": {},
     "output_type": "execute_result"
    }
   ],
   "source": [
    "c.execute(\"select * from players;\")\n",
    "print [i[0] for i in c.description]\n",
    "c.fetchall()"
   ]
  },
  {
   "cell_type": "code",
   "execution_count": 16,
   "metadata": {
    "collapsed": false
   },
   "outputs": [
    {
     "name": "stdout",
     "output_type": "stream",
     "text": [
      "create view rank as\n",
      "select id,\n",
      "       name,\n",
      "       count(winner) as wins\n",
      "from players\n",
      "left join matches on id=winner\n",
      "group by id\n",
      "order by wins DESC;\n"
     ]
    }
   ],
   "source": [
    "import sqlparse\n",
    "query = \"create view rank as select id, name, count(winner) as wins from players left join matches \\\n",
    "on id=winner group by id order by wins DESC;\"\n",
    "print sqlparse.format(query,reindent=True)"
   ]
  }
 ],
 "metadata": {
  "kernelspec": {
   "display_name": "Python [conda root]",
   "language": "python",
   "name": "conda-root-py"
  },
  "language_info": {
   "codemirror_mode": {
    "name": "ipython",
    "version": 2
   },
   "file_extension": ".py",
   "mimetype": "text/x-python",
   "name": "python",
   "nbconvert_exporter": "python",
   "pygments_lexer": "ipython2",
   "version": "2.7.12"
  }
 },
 "nbformat": 4,
 "nbformat_minor": 2
}
